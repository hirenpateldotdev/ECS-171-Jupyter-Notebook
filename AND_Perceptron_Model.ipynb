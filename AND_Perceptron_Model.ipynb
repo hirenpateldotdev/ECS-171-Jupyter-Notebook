{
 "cells": [
  {
   "cell_type": "code",
   "execution_count": 1,
   "id": "7558ca2d",
   "metadata": {},
   "outputs": [
    {
     "name": "stdout",
     "output_type": "stream",
     "text": [
      "For input \n",
      "[1, 0, 0]\n",
      "Threshold:  0.5\n",
      "the sum is -3 the output is 0.0\n",
      "For input \n",
      "[1, 0, 1]\n",
      "Threshold:  0.5\n",
      "the sum is -1 the output is 0.0\n",
      "For input \n",
      "[1, 1, 0]\n",
      "Threshold:  0.5\n",
      "the sum is -1 the output is 0.0\n",
      "For input \n",
      "[1, 1, 1]\n",
      "Threshold:  0.5\n",
      "the sum is 1 the output is 1.0\n"
     ]
    }
   ],
   "source": [
    "# Implementing AND Gate\n",
    "\n",
    "class AND_Perceptron_model: \n",
    "    \n",
    "    def __init__(self, weights, threshold):                       \n",
    "        self.weights=weights \n",
    "        self.threshold = threshold\n",
    "        \n",
    "    def combination(self, x, w):   \n",
    "        return sum(x_i*w_i for x_i, w_i in zip(x, w))\n",
    "    \n",
    "\n",
    "    def stepactivation(self, sumproduct):\n",
    "        print(\"Threshold: \" , self.threshold)\n",
    "        return 1.0 if sumproduct >= self.threshold else 0.0\n",
    "\n",
    "    \n",
    "    def fit(self, train):\n",
    "        for row in train:\n",
    "            layer_1 = row[:-1] # all attributes except the last column (y)\n",
    "            print(\"For input \")\n",
    "            print(layer_1)\n",
    "            \n",
    "            sumproduct= self.combination(layer_1, self.weights)\n",
    "            layer_2= self.stepactivation(sumproduct )\n",
    "            print(\"the sum is\" ,sumproduct, \"the output is\", layer_2)\n",
    "            \n",
    "initial_w=[-3,2,2]\n",
    "dataset = [[1,0,0,0],[1,0,1,0],[1,1,0,0],[1,1,1,1]]\n",
    "\n",
    "model = AND_Perceptron_model (initial_w,0.5)\n",
    "model.fit(dataset)\n",
    "\n",
    "#//TODO: Can you implement this for NOR Gate? "
   ]
  },
  {
   "cell_type": "code",
   "execution_count": null,
   "id": "9e900bce",
   "metadata": {},
   "outputs": [],
   "source": []
  },
  {
   "cell_type": "code",
   "execution_count": null,
   "id": "32b76bc9",
   "metadata": {},
   "outputs": [],
   "source": []
  }
 ],
 "metadata": {
  "kernelspec": {
   "display_name": "Python 3 (ipykernel)",
   "language": "python",
   "name": "python3"
  },
  "language_info": {
   "codemirror_mode": {
    "name": "ipython",
    "version": 3
   },
   "file_extension": ".py",
   "mimetype": "text/x-python",
   "name": "python",
   "nbconvert_exporter": "python",
   "pygments_lexer": "ipython3",
   "version": "3.8.10"
  }
 },
 "nbformat": 4,
 "nbformat_minor": 5
}
