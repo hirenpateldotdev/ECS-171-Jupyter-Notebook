{
 "cells": [
  {
   "cell_type": "markdown",
   "id": "fef85b11",
   "metadata": {},
   "source": [
    "# Constructing a Polynomial Regression: An Example"
   ]
  },
  {
   "cell_type": "code",
   "execution_count": 168,
   "id": "21308cdb",
   "metadata": {},
   "outputs": [],
   "source": [
    "import operator\n",
    "import numpy as np\n",
    "import matplotlib.pyplot as plt\n",
    "from sklearn.linear_model import LinearRegression\n",
    "from sklearn.metrics import mean_squared_error, r2_score\n",
    "from sklearn.preprocessing import PolynomialFeatures\n"
   ]
  },
  {
   "cell_type": "code",
   "execution_count": 244,
   "id": "5e4de718",
   "metadata": {
    "scrolled": true
   },
   "outputs": [
    {
     "data": {
      "image/png": "[encoded data removed]",
      "text/plain": [
       "<Figure size 432x288 with 1 Axes>"
      ]
     },
     "metadata": {
      "needs_background": "light"
     },
     "output_type": "display_data"
    }
   ],
   "source": [
    "#Building a dummy dataset with 100 data points \n",
    "\n",
    "np.random.seed(0)\n",
    "# np.random.normal creates a random normally distributed dataset\n",
    "# ( begin, stepsize, # of datapoints)\n",
    "x = 2 - 3 * np.random.normal(0, 1, 100)\n",
    "y = x - 2 * (x ** 2) + 0.5 * (x ** 3) + np.random.normal(-3, 3, 100)\n",
    "\n",
    "# transforming the data to include another axis\n",
    "x = x[:, np.newaxis]\n",
    "y = y[:, np.newaxis]\n",
    "\n",
    "plt.scatter(x,y, s=10)\n",
    "plt.show()"
   ]
  },
  {
   "cell_type": "markdown",
   "id": "d4ece429",
   "metadata": {},
   "source": [
    "## Linear Regression"
   ]
  },
  {
   "cell_type": "code",
   "execution_count": 230,
   "id": "5dbd13ef",
   "metadata": {},
   "outputs": [],
   "source": [
    "#spliting the data [80:20]\n",
    "x_train = x[:-20]\n",
    "y_train = y[:-20]\n",
    "\n",
    "x_test = x[-20:]\n",
    "y_test = y[-20:]\n",
    "yhat_train_pred = None"
   ]
  },
  {
   "cell_type": "code",
   "execution_count": 231,
   "id": "98d43bbe",
   "metadata": {},
   "outputs": [
    {
     "name": "stdout",
     "output_type": "stream",
     "text": [
      "Model weights: \n",
      "[[11.4160685]]\n"
     ]
    },
    {
     "data": {
      "image/png": "[encoded data removed]",
      "text/plain": [
       "<Figure size 432x288 with 1 Axes>"
      ]
     },
     "metadata": {
      "needs_background": "light"
     },
     "output_type": "display_data"
    }
   ],
   "source": [
    "model = LinearRegression()\n",
    "model.fit(x_train, y_train)\n",
    "print(\"Model weights: \")\n",
    "print(model.coef_)\n",
    "\n",
    "#here, we call predict on the training set because we want to see the fit of the model on the training set. \n",
    "yhat_train_pred = model.predict(x_train)\n",
    "yhat_test_pred = model.predict(x_test)\n",
    "\n",
    "# Let's plot our subset of data in this case 80% of our data. \n",
    "# Does it look the same as above?\n",
    "plt.scatter(x_train, y_train, s=10)\n",
    "plt.show()\n"
   ]
  },
  {
   "cell_type": "code",
   "execution_count": 232,
   "id": "7f3ceee5",
   "metadata": {},
   "outputs": [
    {
     "data": {
      "image/png": "[encoded data removed]",
      "text/plain": [
       "<Figure size 432x288 with 1 Axes>"
      ]
     },
     "metadata": {
      "needs_background": "light"
     },
     "output_type": "display_data"
    }
   ],
   "source": [
    "# Here we plot our regression line\n",
    "# How does it fit? we can evaluate our MSE but also simply see that we can do better!\n",
    "plt.scatter(x_train, y_train, s=10)\n",
    "plt.plot(x_train, yhat_train_pred, color='r')\n",
    "plt.show()"
   ]
  },
  {
   "cell_type": "code",
   "execution_count": 233,
   "id": "4bc7694f",
   "metadata": {},
   "outputs": [
    {
     "name": "stdout",
     "output_type": "stream",
     "text": [
      "Training RMSE: 27.823345591088774\n",
      "Training R2: 0.605330642166617\n"
     ]
    }
   ],
   "source": [
    "# Let's check our error\n",
    "rmse = np.sqrt(mean_squared_error(y_train,yhat_train_pred))\n",
    "r2 = r2_score(y_train,yhat_train_pred)\n",
    "print('Training RMSE: %8.15f' % rmse)\n",
    "print('Training R2: %8.15f' % r2)"
   ]
  },
  {
   "cell_type": "code",
   "execution_count": 234,
   "id": "47473018",
   "metadata": {},
   "outputs": [
    {
     "name": "stdout",
     "output_type": "stream",
     "text": [
      "Training RMSE: 17.397646191160849\n",
      "Training R2: 0.421299699834791\n"
     ]
    }
   ],
   "source": [
    "rmse = np.sqrt(mean_squared_error(y_test,yhat_test_pred))\n",
    "r2 = r2_score(y_test,yhat_test_pred)\n",
    "print('Training RMSE: %8.15f' % rmse)\n",
    "print('Training R2: %8.15f' % r2)"
   ]
  },
  {
   "cell_type": "markdown",
   "id": "c42d7a68",
   "metadata": {},
   "source": [
    "## Constructing a 2nd order Polynomail Regression"
   ]
  },
  {
   "cell_type": "code",
   "execution_count": 245,
   "id": "34175e3b",
   "metadata": {},
   "outputs": [],
   "source": [
    "#Rebuilding a dummy dataset with 100 data points \n",
    "\n",
    "np.random.seed(0)\n",
    "# np.random.normal creates a random normally distributed dataset\n",
    "# ( begin, stepsize, # of datapoints)\n",
    "x = 2 - 3 * np.random.normal(0, 1, 100)\n",
    "y = x - 2 * (x ** 2) + 0.5 * (x ** 3) + np.random.normal(-3, 3, 100)\n",
    "\n",
    "# transforming the data to include another axis\n",
    "x = x[:, np.newaxis]\n",
    "y = y[:, np.newaxis]\n"
   ]
  },
  {
   "cell_type": "code",
   "execution_count": 246,
   "id": "d48af82f",
   "metadata": {},
   "outputs": [
    {
     "name": "stdout",
     "output_type": "stream",
     "text": [
      "Polynomial Features: [1,x,x**2]\n",
      "[ 1.         -3.29215704 10.83829796]\n"
     ]
    }
   ],
   "source": [
    "#  Generate a new feature matrix consisting of all polynomial combinations of the \n",
    "## features with degree less than or equal to the specified degree. For example, \n",
    "## if an input sample is two dimensional and of the form [a, b], \n",
    "## the degree-2 polynomial features are [1, a, b, a^2, ab, b^2].\n",
    "\n",
    "polynomial_features= PolynomialFeatures(degree=2)\n",
    "x_poly = polynomial_features.fit_transform(x)\n",
    "print('Polynomial Features: [1,x,x**2]')\n",
    "print(x_poly[0])"
   ]
  },
  {
   "cell_type": "code",
   "execution_count": 247,
   "id": "6cb164d2",
   "metadata": {},
   "outputs": [],
   "source": [
    "#Subset the data\n",
    "x_poly_train = x_poly[:-20]\n",
    "y_train = y[:-20]\n",
    "\n",
    "x_poly_test = x_poly[-20:]\n",
    "y_test = y[-20:]"
   ]
  },
  {
   "cell_type": "code",
   "execution_count": 248,
   "id": "a71bec3d",
   "metadata": {},
   "outputs": [
    {
     "name": "stdout",
     "output_type": "stream",
     "text": [
      "Model weights: \n",
      "[[0.         7.22599268 1.0992131 ]]\n"
     ]
    }
   ],
   "source": [
    "model = LinearRegression()\n",
    "model.fit(x_poly_train, y_train)\n",
    "yhat_train_pred = model.predict(x_poly_train)\n",
    "yhat_test_pred = model.predict(x_poly_test)\n",
    "\n",
    "print(\"Model weights: \")\n",
    "print(model.coef_)"
   ]
  },
  {
   "cell_type": "code",
   "execution_count": 249,
   "id": "b33cf4fa",
   "metadata": {},
   "outputs": [
    {
     "name": "stdout",
     "output_type": "stream",
     "text": [
      "Training RMSE: 24.395169585394576\n",
      "Training R2: 0.696595238721916\n"
     ]
    }
   ],
   "source": [
    "rmse = np.sqrt(mean_squared_error(y_train,yhat_train_pred))\n",
    "r2 = r2_score(y_train,yhat_train_pred)\n",
    "print('Training RMSE: %8.15f' % rmse)\n",
    "print('Training R2: %8.15f' % r2)"
   ]
  },
  {
   "cell_type": "code",
   "execution_count": 250,
   "id": "054a3b71",
   "metadata": {},
   "outputs": [
    {
     "name": "stdout",
     "output_type": "stream",
     "text": [
      "Training RMSE: 18.958147188630612\n",
      "Training R2: 0.312829511125536\n"
     ]
    }
   ],
   "source": [
    "rmse = np.sqrt(mean_squared_error(y_test,yhat_test_pred))\n",
    "r2 = r2_score(y_test,yhat_test_pred)\n",
    "print('Training RMSE: %8.15f' % rmse)\n",
    "print('Training R2: %8.15f' % r2)"
   ]
  },
  {
   "cell_type": "code",
   "execution_count": 251,
   "id": "9b817235",
   "metadata": {},
   "outputs": [
    {
     "data": {
      "image/png": "[encoded data removed]",
      "text/plain": [
       "<Figure size 432x288 with 1 Axes>"
      ]
     },
     "metadata": {
      "needs_background": "light"
     },
     "output_type": "display_data"
    }
   ],
   "source": [
    "plt.scatter(x, y, s=10)\n",
    "# sort the values of x before line plot\n",
    "sort_axis = operator.itemgetter(0)\n",
    "sorted_zip = sorted(zip(x,yhat_train_pred), key=sort_axis)\n",
    "x_poly_train, yhat_train_pred = zip(*sorted_zip)\n",
    "plt.plot(x_poly_train, yhat_train_pred, color='m')\n",
    "plt.show()"
   ]
  },
  {
   "cell_type": "markdown",
   "id": "13ac5006",
   "metadata": {},
   "source": [
    "## Polynomial Regresion 3rd order"
   ]
  },
  {
   "cell_type": "code",
   "execution_count": 257,
   "id": "ebc0f7b3",
   "metadata": {},
   "outputs": [],
   "source": [
    "#Building a dummy dataset with 100 data points \n",
    "\n",
    "np.random.seed(0)\n",
    "# np.random.normal creates a random normally distributed dataset\n",
    "# ( begin, stepsize, # of datapoints)\n",
    "x = 2 - 3 * np.random.normal(0, 1, 100)\n",
    "y = x - 2 * (x ** 2) + 0.5 * (x ** 3) + np.random.normal(-3, 3, 100)\n",
    "\n",
    "# transforming the data to include another axis\n",
    "x = x[:, np.newaxis]\n",
    "y = y[:, np.newaxis]\n"
   ]
  },
  {
   "cell_type": "code",
   "execution_count": 258,
   "id": "b584fd10",
   "metadata": {},
   "outputs": [
    {
     "name": "stdout",
     "output_type": "stream",
     "text": [
      "Polynomial Features: [1,x,x**2,x**3]\n",
      "[  1.          -3.29215704  10.83829796 -35.68137892]\n"
     ]
    }
   ],
   "source": [
    "#  Generate a new feature matrix consisting of all polynomial combinations of the \n",
    "## features with degree less than or equal to the specified degree. \n",
    "polynomial_features= PolynomialFeatures(degree=3)\n",
    "x_poly = polynomial_features.fit_transform(x)\n",
    "print('Polynomial Features: [1,x,x**2,x**3]')\n",
    "print(x_poly[0])"
   ]
  },
  {
   "cell_type": "code",
   "execution_count": 259,
   "id": "2f1f5e4f",
   "metadata": {},
   "outputs": [],
   "source": [
    "# subset the data\n",
    "x_poly_train = x_poly[:-20]\n",
    "y_train = y[:-20]\n",
    "\n",
    "x_poly_test = x_poly[-20:]\n",
    "y_test = y[-20:]"
   ]
  },
  {
   "cell_type": "code",
   "execution_count": 260,
   "id": "ce8395b6",
   "metadata": {},
   "outputs": [
    {
     "name": "stdout",
     "output_type": "stream",
     "text": [
      "Model weights: \n",
      "[[ 0.          0.90216542 -2.01095101  0.50074037]]\n"
     ]
    }
   ],
   "source": [
    "model = LinearRegression()\n",
    "model.fit(x_poly_train, y_train)\n",
    "yhat_train_pred = model.predict(x_poly_train)\n",
    "yhat_test_pred = model.predict(x_poly_test)\n",
    "\n",
    "print(\"Model weights: \")\n",
    "print(model.coef_)"
   ]
  },
  {
   "cell_type": "code",
   "execution_count": 261,
   "id": "97aea2e7",
   "metadata": {},
   "outputs": [
    {
     "name": "stdout",
     "output_type": "stream",
     "text": [
      "Training RMSE: 2.991353849540037\n",
      "Training R2: 0.995438052457929\n"
     ]
    }
   ],
   "source": [
    "rmse = np.sqrt(mean_squared_error(y_train,yhat_train_pred))\n",
    "r2 = r2_score(y_train,yhat_train_pred)\n",
    "print('Training RMSE: %8.15f' % rmse)\n",
    "print('Training R2: %8.15f' % r2)"
   ]
  },
  {
   "cell_type": "code",
   "execution_count": 262,
   "id": "f839a0bf",
   "metadata": {},
   "outputs": [
    {
     "name": "stdout",
     "output_type": "stream",
     "text": [
      "Training RMSE: 3.431740027623191\n",
      "Training R2: 0.977483469140174\n"
     ]
    }
   ],
   "source": [
    "rmse = np.sqrt(mean_squared_error(y_test,yhat_test_pred))\n",
    "r2 = r2_score(y_test,yhat_test_pred)\n",
    "print('Training RMSE: %8.15f' % rmse)\n",
    "print('Training R2: %8.15f' % r2)"
   ]
  },
  {
   "cell_type": "code",
   "execution_count": 263,
   "id": "74dff930",
   "metadata": {},
   "outputs": [
    {
     "data": {
      "image/png": "[encoded data removed]",
      "text/plain": [
       "<Figure size 432x288 with 1 Axes>"
      ]
     },
     "metadata": {
      "needs_background": "light"
     },
     "output_type": "display_data"
    }
   ],
   "source": [
    "plt.scatter(x, y, s=10)\n",
    "# sort the values of x before line plot\n",
    "sort_axis = operator.itemgetter(0)\n",
    "sorted_zip = sorted(zip(x,yhat_train_pred), key=sort_axis)\n",
    "x_poly_train, yhat_train_pred = zip(*sorted_zip)\n",
    "plt.plot(x_poly_train, yhat_train_pred, color='m')\n",
    "plt.show()"
   ]
  },
  {
   "cell_type": "markdown",
   "id": "a0899c9b",
   "metadata": {},
   "source": [
    "## Multiorder polynomial"
   ]
  },
  {
   "cell_type": "code",
   "execution_count": 277,
   "id": "24893a3a",
   "metadata": {},
   "outputs": [],
   "source": [
    "#Building a dummy dataset with 100 data points \n",
    "\n",
    "np.random.seed(0)\n",
    "# np.random.normal creates a random normally distributed dataset\n",
    "# ( begin, stepsize, # of datapoints)\n",
    "x = 2 - 3 * np.random.normal(0, 1, 100)\n",
    "y = x - 2 * (x ** 2) + 0.5 * (x ** 3) + np.random.normal(-3, 3, 100)\n",
    "\n",
    "# transforming the data to include another axis\n",
    "x = x[:, np.newaxis]\n",
    "y = y[:, np.newaxis]\n"
   ]
  },
  {
   "cell_type": "code",
   "execution_count": 278,
   "id": "3d594315",
   "metadata": {},
   "outputs": [],
   "source": [
    "#Using the same Dummy Dataset\n",
    "np.random.seed(0)\n",
    "x = 2 - 3 * np.random.normal(0, 1, 100)\n",
    "y = x - 2 * (x ** 2) + 0.5 * (x ** 3) + np.random.normal(-3, 3, 100)\n",
    "\n",
    "# transforming the data to include another axis\n",
    "x = x[:, np.newaxis]\n",
    "y = y[:, np.newaxis]\n"
   ]
  },
  {
   "cell_type": "code",
   "execution_count": 279,
   "id": "7a8a141b",
   "metadata": {},
   "outputs": [],
   "source": [
    "#  Generate a new feature matrix consisting of all polynomial combinations of the \n",
    "## features with degree less than or equal to the specified degree. \n",
    "polynomial_features= PolynomialFeatures(degree=15)\n",
    "x_poly = polynomial_features.fit_transform(x)\n",
    "\n",
    "x_poly_train = x_poly[:-20]\n",
    "y_train = y[:-20]\n",
    "\n",
    "x_poly_test = x_poly[-20:]\n",
    "y_test = y[-20:]"
   ]
  },
  {
   "cell_type": "code",
   "execution_count": 280,
   "id": "d7ec0811",
   "metadata": {},
   "outputs": [
    {
     "name": "stdout",
     "output_type": "stream",
     "text": [
      "Model weights: \n",
      "[[ 0.00000000e+00  8.61227274e-01 -5.56886301e-01  7.93181459e-01\n",
      "  -4.68692320e-01 -8.48028070e-02  8.64618511e-02  3.43521356e-03\n",
      "  -7.72695788e-03  5.67112780e-04  2.84023084e-04 -4.78462777e-05\n",
      "  -1.55493378e-06  9.33571388e-07 -7.99616701e-08  2.25756092e-09]]\n"
     ]
    }
   ],
   "source": [
    "model = LinearRegression()\n",
    "model.fit(x_poly_train, y_train)\n",
    "yhat_train_pred = model.predict(x_poly_train)\n",
    "yhat_test_pred = model.predict(x_poly_test)\n",
    "\n",
    "print(\"Model weights: \")\n",
    "print(model.coef_)"
   ]
  },
  {
   "cell_type": "code",
   "execution_count": 282,
   "id": "6b46bf61",
   "metadata": {},
   "outputs": [
    {
     "name": "stdout",
     "output_type": "stream",
     "text": [
      "Training RMSE: 2.823489465657719\n",
      "Training R2: 0.995935687880322\n"
     ]
    }
   ],
   "source": [
    "rmse = np.sqrt(mean_squared_error(y_train,yhat_train_pred))\n",
    "r2 = r2_score(y_train,yhat_train_pred)\n",
    "print('Training RMSE: %8.15f' % rmse)\n",
    "print('Training R2: %8.15f' % r2)"
   ]
  },
  {
   "cell_type": "code",
   "execution_count": 283,
   "id": "9d14e670",
   "metadata": {},
   "outputs": [
    {
     "name": "stdout",
     "output_type": "stream",
     "text": [
      "Training RMSE: 3.093365692718381\n",
      "Training R2: 0.981704880614407\n"
     ]
    }
   ],
   "source": [
    "rmse = np.sqrt(mean_squared_error(y_test,yhat_test_pred))\n",
    "r2 = r2_score(y_test,yhat_test_pred)\n",
    "print('Training RMSE: %8.15f' % rmse)\n",
    "print('Training R2: %8.15f' % r2)"
   ]
  },
  {
   "cell_type": "code",
   "execution_count": 284,
   "id": "16fd4939",
   "metadata": {},
   "outputs": [
    {
     "data": {
      "image/png": "[encoded data removed]",
      "text/plain": [
       "<Figure size 432x288 with 1 Axes>"
      ]
     },
     "metadata": {
      "needs_background": "light"
     },
     "output_type": "display_data"
    }
   ],
   "source": [
    "plt.scatter(x, y, s=10)\n",
    "# sort the values of x before line plot\n",
    "sort_axis = operator.itemgetter(0)\n",
    "sorted_zip = sorted(zip(x,yhat_train_pred), key=sort_axis)\n",
    "x_poly_train, yhat_train_pred = zip(*sorted_zip)\n",
    "plt.plot(x_poly_train, yhat_train_pred, color='m')\n",
    "plt.show()"
   ]
  }
 ],
 "metadata": {
  "kernelspec": {
   "display_name": "Python 3 (ipykernel)",
   "language": "python",
   "name": "python3"
  },
  "language_info": {
   "codemirror_mode": {
    "name": "ipython",
    "version": 3
   },
   "file_extension": ".py",
   "mimetype": "text/x-python",
   "name": "python",
   "nbconvert_exporter": "python",
   "pygments_lexer": "ipython3",
   "version": "3.8.10"
  }
 },
 "nbformat": 4,
 "nbformat_minor": 5
}
